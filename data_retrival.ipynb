{
 "cells": [
  {
   "cell_type": "code",
   "execution_count": null,
   "metadata": {},
   "outputs": [],
   "source": [
    "import subprocess\n",
    "\n",
    "def download_data(url, output_file):\n",
    "    try:\n",
    "        subprocess.run(f\"wget -O {output_file} {url}\", shell=True, check=True)\n",
    "        print(f\"Data downloaded successfully: {output_file}\")\n",
    "    except subprocess.CalledProcessError:\n",
    "        print(f\"Failed to download data from {url}\")\n",
    "        raise\n",
    "\n",
    "url = \"https://www2.census.gov/programs-surveys/popest/datasets/2020-2021/cities/totals/sub-est2021_1.csv\"\n",
    "output_file = \"population_data.csv\"\n",
    "\n",
    "download_data(url, output_file)"
   ]
  }
 ],
 "metadata": {
  "language_info": {
   "name": "python"
  }
 },
 "nbformat": 4,
 "nbformat_minor": 2
}
